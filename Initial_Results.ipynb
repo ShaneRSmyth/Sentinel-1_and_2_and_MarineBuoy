{
  "nbformat": 4,
  "nbformat_minor": 0,
  "metadata": {
    "colab": {
      "provenance": [],
      "collapsed_sections": [
        "STwEAgMbIQ7R",
        "6vVmhEIbIWHd",
        "38yfMgJ6Z6co",
        "hZmCIBn-Icbg",
        "iy4cJ_D2mcqq",
        "NbWZMYuwYz7P",
        "O37JXO9Iao09",
        "CG5LIpS_0ydv",
        "CtZiFJuC7Tuf"
      ],
      "authorship_tag": "ABX9TyPhGa3wCQ6KN/OEUFIIlNxw",
      "include_colab_link": true
    },
    "kernelspec": {
      "name": "python3",
      "display_name": "Python 3"
    },
    "language_info": {
      "name": "python"
    }
  },
  "cells": [
    {
      "cell_type": "markdown",
      "metadata": {
        "id": "view-in-github",
        "colab_type": "text"
      },
      "source": [
        "<a href=\"https://colab.research.google.com/github/ShaneRSmyth/Sentinel-1_and_2_and_MarineBuoy/blob/main/Initial_Results.ipynb\" target=\"_parent\"><img src=\"https://colab.research.google.com/assets/colab-badge.svg\" alt=\"Open In Colab\"/></a>"
      ]
    },
    {
      "cell_type": "markdown",
      "source": [
        "# Installations"
      ],
      "metadata": {
        "id": "STwEAgMbIQ7R"
      }
    },
    {
      "cell_type": "code",
      "source": [
        "!pip install spyndex"
      ],
      "metadata": {
        "id": "llPxwZkpReDG"
      },
      "execution_count": null,
      "outputs": []
    },
    {
      "cell_type": "code",
      "source": [
        "!pip install rasterio"
      ],
      "metadata": {
        "id": "KCpaMpBZR6FS"
      },
      "execution_count": null,
      "outputs": []
    },
    {
      "cell_type": "code",
      "source": [
        "!pip install geemap"
      ],
      "metadata": {
        "id": "MRFzwQn1RK6n"
      },
      "execution_count": null,
      "outputs": []
    },
    {
      "cell_type": "code",
      "source": [
        "!pip install folium"
      ],
      "metadata": {
        "id": "erlqEdUIPzWI"
      },
      "execution_count": null,
      "outputs": []
    },
    {
      "cell_type": "code",
      "source": [
        "!pip install tifffile"
      ],
      "metadata": {
        "id": "d9Rmgh31qo0Q"
      },
      "execution_count": null,
      "outputs": []
    },
    {
      "cell_type": "code",
      "source": [
        "!pip install imagecodecs"
      ],
      "metadata": {
        "id": "LeXtkkBirOSV"
      },
      "execution_count": null,
      "outputs": []
    },
    {
      "cell_type": "code",
      "source": [
        "!pip install georasters"
      ],
      "metadata": {
        "id": "SLEb6hS24Qn1"
      },
      "execution_count": null,
      "outputs": []
    },
    {
      "cell_type": "markdown",
      "source": [
        "# Libraries"
      ],
      "metadata": {
        "id": "6vVmhEIbIWHd"
      }
    },
    {
      "cell_type": "code",
      "source": [
        "import folium\n",
        "import ee, eemont\n",
        "import geemap\n",
        "import geemap.colormaps as cm\n",
        "import spyndex\n",
        "import rasterio\n",
        "import folium"
      ],
      "metadata": {
        "id": "BOMtoh05OvBy"
      },
      "execution_count": null,
      "outputs": []
    },
    {
      "cell_type": "code",
      "source": [],
      "metadata": {
        "id": "0CS8Iblzykw7"
      },
      "execution_count": null,
      "outputs": []
    },
    {
      "cell_type": "markdown",
      "source": [
        "# Authenticate"
      ],
      "metadata": {
        "id": "38yfMgJ6Z6co"
      }
    },
    {
      "cell_type": "code",
      "source": [
        "ee.Authenticate()"
      ],
      "metadata": {
        "id": "PMhIXNzBZ-wO"
      },
      "execution_count": null,
      "outputs": []
    },
    {
      "cell_type": "code",
      "source": [],
      "metadata": {
        "id": "eXSKkdhWzaeE"
      },
      "execution_count": null,
      "outputs": []
    },
    {
      "cell_type": "markdown",
      "source": [
        "# Sentinel-2 NDWI (works)"
      ],
      "metadata": {
        "id": "hZmCIBn-Icbg"
      }
    },
    {
      "cell_type": "code",
      "source": [
        "import ee\n",
        "import folium\n",
        "import os\n",
        "import geemap\n",
        "\n",
        "# initialize Earth Engine\n",
        "ee.Initialize()\n",
        "\n",
        "# latitude, longitude\n",
        "roi = ee.Geometry.Point(-6.704336, 51.690425)\n",
        "\n",
        "# start and end dates\n",
        "start_date = '2023-09-29T00:00:00Z'\n",
        "end_date = '2023-10-02T00:00:00Z'\n",
        "\n",
        "# sentinel 2 image collection with specified time and region of interest\n",
        "s2_collection = ee.ImageCollection('COPERNICUS/S2') \\\n",
        "    .filterDate(ee.Date(start_date), ee.Date(end_date)) \\\n",
        "    .filterBounds(roi) \\\n",
        "    .sort('CLOUDY_PIXEL_PERCENTAGE') \\\n",
        "    .first()\n",
        "\n",
        "# near-Infrared (NIR) and Green (B3) bands\n",
        "nir_band = 'B8'\n",
        "green_band = 'B3'\n",
        "\n",
        "# NDWI\n",
        "ndwi = s2_collection.normalizedDifference([nir_band, green_band])\n",
        "\n",
        "# this is where the exported image gets saved\n",
        "output_folder = '/content/drive/MyDrive/Sentinel2_NDWI'\n",
        "\n",
        "# interactive map to visualize\n",
        "Map = geemap.Map(center=[51.690425, -6.704336], zoom=10)\n",
        "\n",
        "# adding ndwi layer to the interactive map\n",
        "Map.addLayer(ndwi, {'min': -1, 'max': 1, 'palette': ['0000FF', '00FF00']}, 'NDWI')\n",
        "\n",
        "# export to google drive\n",
        "task = ee.batch.Export.image.toDrive(\n",
        "    image=ndwi, #specify image to export\n",
        "    description='NDWI_Image', # specify file name\n",
        "    folder=output_folder, #specify folder location\n",
        "    fileNamePrefix='ndwi_image', # prefix\n",
        "    scale=10,  # 10m resolution\n",
        "    maxPixels=120604324 # entire region\n",
        ")\n",
        "\n",
        "# start export\n",
        "task.start()\n",
        "# debug export\n",
        "print(task.status())\n",
        "\n",
        "# start the interactive map\n",
        "Map\n"
      ],
      "metadata": {
        "id": "SUTADQ60fCRD"
      },
      "execution_count": null,
      "outputs": []
    },
    {
      "cell_type": "markdown",
      "source": [
        "# Sentinel-1 SAR VV (works)"
      ],
      "metadata": {
        "id": "iy4cJ_D2mcqq"
      }
    },
    {
      "cell_type": "code",
      "source": [
        "import ee\n",
        "import geemap\n",
        "\n",
        "# Initialize Earth Engine\n",
        "ee.Initialize()\n",
        "\n",
        "# Define a region of interest (ROI) as a point (latitude, longitude)\n",
        "# Define a larger ROI as a bounding box\n",
        "roi = ee.Geometry.Rectangle([-7.0, 51.5, -6.5, 52.0])\n",
        "\n",
        "\n",
        "# Define the time period (start and end dates) for the image collection\n",
        "start_date = '2023-01-01T00:00:00Z'\n",
        "end_date = '2023-01-04T00:00:00Z'\n",
        "\n",
        "# Create a Sentinel-1 image collection for the specified time period and ROI\n",
        "s1_collection = ee.ImageCollection('COPERNICUS/S1_GRD') \\\n",
        "    .filterDate(ee.Date(start_date), ee.Date(end_date)) \\\n",
        "    .filterBounds(roi) \\\n",
        "    .first()\n",
        "    # .sort('CLOUDY_PIXEL_PERCENTAGE')\n",
        "\n",
        "# Select the VV polarization band for visualization\n",
        "vv_band = s1_collection.select('VV')\n",
        "\n",
        "# Convert the bands to Float32 data type\n",
        "s1_collection = s1_collection.toFloat()\n",
        "\n",
        "# Create a map centered on the ROI\n",
        "map_center = roi.coordinates().reverse().getInfo()\n",
        "Map = geemap.Map(center=map_center, zoom=10)\n",
        "\n",
        "vis_params = {\n",
        "    'min': -30,    # Adjust the min and max values based on your data range\n",
        "    'max': 5,\n",
        "    'palette': ['navy', 'lightblue', 'darkblue'],  # Customize the palette for ocean features\n",
        "}\n",
        "\n",
        "# Add the SAR imagery to the map\n",
        "Map.addLayer(vv_band, vis_params, 'SAR Image')\n",
        "#  {\n",
        "#     # 'bands': ['VV'],\n",
        "#     'min': -30,\n",
        "#     'max': 0,\n",
        "#     # 'gamma': 1.4\n",
        "# }, 'SAR Image')\n",
        "\n",
        "# Export SAR image to Google Drive\n",
        "export_params = {\n",
        "    'image': vv_band,\n",
        "    'description': 'SAR_Image_4',\n",
        "    'fileFormat': 'GeoTIFF',\n",
        "    'folder': '/content/drive/MyDrive/Sentinel1_SAR',  # Replace with your Google Drive folder path\n",
        "    'scale': 10,  # Adjust scale as needed\n",
        "    'region': roi\n",
        "}\n",
        "\n",
        "# Start the export task\n",
        "task = ee.batch.Export.image.toDrive(**export_params)\n",
        "task.start()\n",
        "\n",
        "# Wait for the export task to complete (optional)\n",
        "task.status()\n",
        "\n",
        "taskCheck = ee.batch.Task.list()\n",
        "print(taskCheck)\n",
        "\n",
        "# Display the map\n",
        "Map\n"
      ],
      "metadata": {
        "id": "b0gQop0Ql0LJ"
      },
      "execution_count": null,
      "outputs": []
    },
    {
      "cell_type": "markdown",
      "source": [
        "# Sentinel-1 SAR VV and VH (works)"
      ],
      "metadata": {
        "id": "NbWZMYuwYz7P"
      }
    },
    {
      "cell_type": "code",
      "source": [
        "import ee\n",
        "import geemap\n",
        "\n",
        "# Initialize Earth Engine\n",
        "ee.Initialize()\n",
        "\n",
        "# Define a region of interest (ROI) as a point (latitude, longitude)\n",
        "# Define a larger ROI as a bounding box\n",
        "roi = ee.Geometry.Rectangle([-7.0, 51.5, -6.5, 52.0])\n",
        "\n",
        "# Define the time period (start and end dates) for the image collection\n",
        "start_date = '2023-01-01'\n",
        "end_date = '2023-01-04'\n",
        "\n",
        "# Create a Sentinel-1 image collection for the specified time period and ROI\n",
        "s1_collection = ee.ImageCollection('COPERNICUS/S1_GRD') \\\n",
        "    .filterDate(ee.Date(start_date), ee.Date(end_date)) \\\n",
        "    .filterBounds(roi)\n",
        "\n",
        "# Select one image from the collection\n",
        "s1_image = ee.Image(s1_collection.first())\n",
        "\n",
        "# Convert the selected image to Float32 data type\n",
        "s1_image = s1_image.toFloat()\n",
        "\n",
        "# Create a map centered on the ROI\n",
        "map_center = roi.coordinates().reverse().getInfo()\n",
        "Map = geemap.Map(center=map_center, zoom=10)\n",
        "\n",
        "# Define visualization parameters for VV and VH bands\n",
        "vv_vis_params = {\n",
        "    'min': -30,    # Adjust the min and max values based on your data range\n",
        "    'max': 5,\n",
        "    'palette': ['navy', 'lightblue', 'darkblue'],  # Customize the palette for ocean features\n",
        "}\n",
        "\n",
        "# Add the VV band to the map with its visualization parameters\n",
        "Map.addLayer(s1_image.select('VV'), vv_vis_params, 'VV Band')\n",
        "\n",
        "# Define visualization parameters for VH band\n",
        "vh_vis_params = {\n",
        "    'min': -30,    # Adjust the min and max values based on your data range\n",
        "    'max': 5,\n",
        "    'palette': ['green', 'lightgreen', 'darkgreen'],  # Customize the palette for VH band\n",
        "}\n",
        "\n",
        "# Add the VH band to the map with its visualization parameters\n",
        "Map.addLayer(s1_image.select('VH'), vh_vis_params, 'VH Band')\n",
        "\n",
        "# Export the selected SAR image to Google Drive\n",
        "export_params = {\n",
        "    'image': s1_image,\n",
        "    'description': 'SAR_Image_5',\n",
        "    'fileFormat': 'GeoTIFF',\n",
        "    'folder': '/content/drive/MyDrive/Sentinel1_SAR',  # Replace with your Google Drive folder path\n",
        "    'scale': 10,  # Adjust scale as needed\n",
        "    'region': roi\n",
        "}\n",
        "\n",
        "# Start the export task\n",
        "task = ee.batch.Export.image.toDrive(**export_params)\n",
        "task.start()\n",
        "\n",
        "# Wait for the export task to complete (optional)\n",
        "task.status()\n",
        "\n",
        "taskCheck = ee.batch.Task.list()\n",
        "print(taskCheck)\n",
        "\n",
        "# Display the map\n",
        "Map\n"
      ],
      "metadata": {
        "id": "u_RthyUYYygf"
      },
      "execution_count": null,
      "outputs": []
    },
    {
      "cell_type": "markdown",
      "source": [
        "# Rasterio NDWI Pre-processing"
      ],
      "metadata": {
        "id": "O37JXO9Iao09"
      }
    },
    {
      "cell_type": "code",
      "source": [
        "# Visualizing Exported Sentinel-2 NDWI Image using Rasterio instead of QGIS\n",
        "\n",
        "import rasterio\n",
        "import matplotlib.pyplot as plt\n",
        "\n",
        "# Path to your NDWI TIFF file\n",
        "ndwi_tif_path = '/content/drive/MyDrive/Sentinel2_NDWI/ndwi_image.tif'\n",
        "with rasterio.open(ndwi_tif_path) as src:\n",
        "    # Access metadata\n",
        "    metadata = src.meta\n",
        "    crs = src.crs\n",
        "    bounds = src.bounds\n",
        "    transform = src.transform\n",
        "    num_bands = src.count\n",
        "    band_names = src.descriptions\n",
        "\n",
        "# Print metadata\n",
        "print(\"Metadata:\")\n",
        "print(metadata)\n",
        "\n",
        "# Print CRS (Coordinate Reference System) information\n",
        "print(\"\\nCRS:\")\n",
        "print(crs)\n",
        "\n",
        "# Print spatial bounds\n",
        "print(\"\\nBounds:\")\n",
        "print(bounds)\n",
        "\n",
        "# Print geotransformation matrix\n",
        "print(\"\\nTransform:\")\n",
        "print(transform)\n",
        "\n",
        "# Print number of bands and their names\n",
        "print(\"\\nNumber of bands:\", num_bands)\n",
        "print(\"Band names:\", band_names)\n",
        "\n",
        "# Open the NDWI TIFF file using rasterio\n",
        "ndwi_dataset = rasterio.open(ndwi_tif_path)\n",
        "\n",
        "# Read the NDWI image data as an array\n",
        "ndwi_image = ndwi_dataset.read(1)  # Assuming it's a single-band image\n",
        "\n",
        "# Plot the NDWI image using Matplotlib\n",
        "plt.figure(figsize=(10, 10))\n",
        "plt.imshow(ndwi_image, cmap='coolwarm', vmin=-1, vmax=1)  # Adjust the colormap and limits as needed\n",
        "plt.colorbar(label='NDWI Value')\n",
        "plt.title('NDWI Image')\n",
        "plt.axis('off')  # Turn off axis labels\n",
        "plt.show()\n"
      ],
      "metadata": {
        "id": "CHk6MDaReV9X"
      },
      "execution_count": null,
      "outputs": []
    },
    {
      "cell_type": "markdown",
      "source": [
        "# Alignment"
      ],
      "metadata": {
        "id": "CG5LIpS_0ydv"
      }
    },
    {
      "cell_type": "code",
      "source": [
        "import geopandas as gpd\n",
        "import rasterio\n",
        "import matplotlib.pyplot as plt\n",
        "import pyproj\n",
        "from shapely.geometry import Point\n",
        "\n",
        "# Load CSV data with WGS84 coordinates (EPSG-4326)\n",
        "csv_data = gpd.GeoDataFrame(pd.read_csv('/content/drive/MyDrive/Sentinel1_SAR/M5_Buoy_Data_2023_01_01.csv', usecols=['latitude', 'longitude']))\n",
        "# After the transformation, add the following lines to print the first few rows\n",
        "print(csv_data.head())\n",
        "\n",
        "# Define the target CRS (EPSG-32629 for UTM zone 29N)\n",
        "target_crs = 'EPSG:32629'\n",
        "\n",
        "# Create a coordinate transformer\n",
        "transformer = pyproj.Transformer.from_crs('EPSG:4326', target_crs, always_xy=True)\n",
        "\n",
        "# Convert WGS84 coordinates to EPSG-32629\n",
        "csv_data['geometry'] = csv_data.apply(lambda row: Point(transformer.transform(row['longitude'], row['latitude'])), axis=1)\n",
        "csv_data.crs = target_crs\n",
        "\n",
        "# Load SAR image\n",
        "with rasterio.open('/content/drive/MyDrive/Sentinel2_NDWI/ndwi_image.tif') as src:\n",
        "    sar_data = src.read(1)  # Adjust the band number if needed\n",
        "\n",
        "# Create a scatter plot of the CSV data points\n",
        "fig, ax = plt.subplots(figsize=(8, 8))\n",
        "\n",
        "# Scatter plot of CSV data points\n",
        "ax.scatter(csv_data['geometry'].x, csv_data['geometry'].y, c='red', label='CSV Data', marker='o')\n",
        "\n",
        "# Overlay the SAR image to visually check alignment\n",
        "ax.imshow(sar_data, cmap='gray', extent=(src.bounds.left, src.bounds.right, src.bounds.bottom, src.bounds.top), alpha=0.5, label='SAR Image')\n",
        "\n",
        "plt.legend()\n",
        "plt.show()\n"
      ],
      "metadata": {
        "id": "YARdD0kdV0c6"
      },
      "execution_count": null,
      "outputs": []
    },
    {
      "cell_type": "markdown",
      "source": [
        "# Linear Regression (Works)"
      ],
      "metadata": {
        "id": "CtZiFJuC7Tuf"
      }
    },
    {
      "cell_type": "code",
      "source": [
        "import numpy as np\n",
        "import pandas as pd\n",
        "from sklearn.linear_model import LinearRegression\n",
        "from osgeo import gdal\n",
        "import matplotlib.pyplot as plt\n",
        "\n",
        "# Load the TIFF file using GDAL\n",
        "tif_path = '/content/drive/MyDrive/ content drive MyDrive Sentinel1_SAR/SAR_Image_1.tif'\n",
        "ds = gdal.Open(tif_path)\n",
        "ndwi_data = ds.ReadAsArray()\n",
        "\n",
        "# Load the CSV file using pandas\n",
        "csv_path = '/content/drive/MyDrive/Sentinel1_SAR/M5_Buoy_Data_2023_01_01.csv'\n",
        "csv_data = pd.read_csv(csv_path)\n",
        "\n",
        "# Remove rows with NaN values from the CSV data\n",
        "csv_data = csv_data.dropna(subset=['SeaTemperature'])\n",
        "\n",
        "# Extract NDWI values for the corresponding rows in the CSV data\n",
        "ndwi_values = []\n",
        "for index, row in csv_data.iterrows():\n",
        "    x, y = int(row['longitude']), int(row['latitude'])  # Adjust column names as needed\n",
        "    ndwi_value = ndwi_data[y, x]\n",
        "    ndwi_values.append(ndwi_value)\n",
        "\n",
        "X_ndwi = np.array(ndwi_values).reshape(-1, 1)\n",
        "y = csv_data['SeaTemperature'].values\n",
        "\n",
        "# Convert Timestamps to Unix Timestamps (tz-naive)\n",
        "csv_data['time'] = pd.to_datetime(csv_data['time']).dt.tz_localize(None)\n",
        "csv_data['time'] = (csv_data['time'] - pd.Timestamp(\"2023-01-01\")).dt.total_seconds()\n",
        "\n",
        "# Merge Data on Timestamps\n",
        "merged_data = csv_data[['time', 'SeaTemperature']].copy()\n",
        "merged_data['NDWI'] = X_ndwi\n",
        "\n",
        "# Perform Linear Regression\n",
        "model = LinearRegression()\n",
        "X_timestamp = merged_data['time'].values.reshape(-1, 1)\n",
        "model.fit(X_timestamp, y)\n",
        "\n",
        "# Print coefficients and intercept of the linear regression model\n",
        "print(\"Coefficients:\", model.coef_)\n",
        "print(\"Intercept:\", model.intercept_)\n",
        "\n",
        "# Create a scatter plot of the data points\n",
        "plt.scatter(X_timestamp, y, label='Data Points')\n",
        "\n",
        "# Generate points along the regression line for plotting\n",
        "x_line = np.linspace(X_timestamp.min(), X_timestamp.max(), 100).reshape(-1, 1)\n",
        "y_line = model.predict(x_line)\n",
        "\n",
        "# Plot the regression line\n",
        "plt.plot(x_line, y_line, color='red', linewidth=2, label='Linear Regression')\n",
        "\n",
        "# Add labels and a legend\n",
        "plt.xlabel('SAR')\n",
        "plt.ylabel('Wind Direction')\n",
        "plt.legend()\n",
        "\n",
        "# Show the plot\n",
        "plt.show()\n"
      ],
      "metadata": {
        "colab": {
          "base_uri": "https://localhost:8080/",
          "height": 485
        },
        "id": "x2R943ts7bi-",
        "outputId": "efbc6c0a-0f96-4027-a422-4e6b5b4dbe5a"
      },
      "execution_count": null,
      "outputs": [
        {
          "output_type": "display_data",
          "data": {
            "text/plain": [
              "<IPython.core.display.HTML object>"
            ],
            "text/html": [
              "\n",
              "            <style>\n",
              "                .geemap-dark {\n",
              "                    --jp-widgets-color: white;\n",
              "                    --jp-widgets-label-color: white;\n",
              "                    --jp-ui-font-color1: white;\n",
              "                    --jp-layout-color2: #454545;\n",
              "                    background-color: #383838;\n",
              "                }\n",
              "                    \n",
              "                .geemap-dark .jupyter-button {\n",
              "                    --jp-layout-color3: #383838;\n",
              "                }\n",
              "                \n",
              "                .geemap-colab {\n",
              "                    background-color: var(--colab-primary-surface-color, white);\n",
              "                }\n",
              "                    \n",
              "                .geemap-colab .jupyter-button {\n",
              "                    --jp-layout-color3: var(--colab-primary-surface-color, white);\n",
              "                }\n",
              "            </style>\n",
              "            "
            ]
          },
          "metadata": {}
        },
        {
          "output_type": "stream",
          "name": "stdout",
          "text": [
            "Coefficients: [-4.09450019e-07]\n",
            "Intercept: 10.980963081636006\n"
          ]
        },
        {
          "output_type": "display_data",
          "data": {
            "text/plain": [
              "<Figure size 640x480 with 1 Axes>"
            ],
            "image/png": "[encoded data removed]"
          },
          "metadata": {}
        }
      ]
    }
  ]
}